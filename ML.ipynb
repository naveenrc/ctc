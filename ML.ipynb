{
  "nbformat": 4,
  "nbformat_minor": 0,
  "metadata": {
    "kernelspec": {
      "display_name": "Python 3",
      "language": "python",
      "name": "python3"
    },
    "language_info": {
      "codemirror_mode": {
        "name": "ipython",
        "version": 3
      },
      "file_extension": ".py",
      "mimetype": "text/x-python",
      "name": "python",
      "nbconvert_exporter": "python",
      "pygments_lexer": "ipython3",
      "version": "3.8.5"
    },
    "colab": {
      "name": "ML.ipynb",
      "provenance": []
    }
  },
  "cells": [
    {
      "cell_type": "markdown",
      "metadata": {
        "id": "ABUi7P6giNsy",
        "colab_type": "text"
      },
      "source": [
        "# Yes, we have data, a lot of it actually. But I really can't go through it manually, but there seems to be a pattern.\n",
        "Data is growing exponentially now-a-days. Computer Scientists and Professors around the globe, devised algorithms that can quickly provide insights and predict something precisely by leveraging the sophisticated hardware that is cheap as chips.\n",
        "\n",
        "These algorithms, that can teach the machine to learn, are called machine learning algorithms. Let's look at this graph, lay down some principles and get familiar with some terminology"
      ]
    },
    {
      "cell_type": "code",
      "metadata": {
        "id": "qzeAP6vsiNsz",
        "colab_type": "code",
        "colab": {},
        "outputId": "9a873efa-9a13-4ebd-876e-56738b564cf0"
      },
      "source": [
        "import numpy as np\n",
        "import matplotlib.pyplot as plt\n",
        "house_area = np.array([300, 650, 1000, 1200])\n",
        "rent = np.array([ 1000, 1300, 1500, 1900 ])\n",
        "\n",
        "plt.plot(house_area, rent, 'x')\n",
        "plt.title('Rents in Jersey City')\n",
        "plt.xlabel('Area, x-axis')\n",
        "plt.ylabel('Rent, y-axis')\n",
        "slope, intercept = np.polyfit(house_area, rent, 1)\n",
        "\n",
        "# y = mx + c is a first degree polynomial or a linear equation\n",
        "plt.plot(house_area, slope*house_area + intercept)\n",
        "plt.show()"
      ],
      "execution_count": null,
      "outputs": [
        {
          "output_type": "display_data",
          "data": {
            "image/png": "[encoded data removed]",
            "text/plain": [
              "<Figure size 432x288 with 1 Axes>"
            ]
          },
          "metadata": {
            "tags": [],
            "needs_background": "light"
          }
        }
      ]
    },
    {
      "cell_type": "code",
      "metadata": {
        "id": "kEQ7m3rsiNs5",
        "colab_type": "code",
        "colab": {},
        "outputId": "6fd8b6b6-d352-4992-946a-40bfcc2c178c"
      },
      "source": [
        "# Run the cell above to get slope and intercept\n",
        "predict_rent = lambda area: slope * area + intercept\n",
        "\n",
        "predict_rent(400)"
      ],
      "execution_count": null,
      "outputs": [
        {
          "output_type": "execute_result",
          "data": {
            "text/plain": [
              "1066.7549668874171"
            ]
          },
          "metadata": {
            "tags": []
          },
          "execution_count": 2
        }
      ]
    },
    {
      "cell_type": "markdown",
      "metadata": {
        "id": "E3nk6cW8iNs8",
        "colab_type": "text"
      },
      "source": [
        "Predict rent for a house of area 990 sqft"
      ]
    },
    {
      "cell_type": "code",
      "metadata": {
        "id": "_FW5hRqQiNs8",
        "colab_type": "code",
        "colab": {}
      },
      "source": [
        "# Add your code here"
      ],
      "execution_count": null,
      "outputs": []
    },
    {
      "cell_type": "markdown",
      "metadata": {
        "id": "ZKLsgg_XiNs-",
        "colab_type": "text"
      },
      "source": [
        "Assume that there are no other factors that influence the rent other than the area of the house.\n",
        "### Why is the 990 sqft more than 1000 sqft?\n",
        "let's promote our equation to next degree. A second degree polynomial can be represented by the equation $$y = ax^2 + bx + c$$"
      ]
    },
    {
      "cell_type": "code",
      "metadata": {
        "id": "7-F_1azUiNs_",
        "colab_type": "code",
        "colab": {},
        "outputId": "f4b3ee17-04dc-4e17-aee5-09e76c6053c3"
      },
      "source": [
        "a_2, b_2, c_2 = np.polyfit(house_area, rent, 2)\n",
        "\n",
        "plt.plot(house_area, rent, 'x')\n",
        "plt.title('Rents in Jersey City')\n",
        "plt.xlabel('Area, x-axis')\n",
        "plt.ylabel('Rent, y-axis')\n",
        "\n",
        "plt.plot(house_area, a_2*(house_area**2) + b_2*house_area + c_2)\n",
        "plt.show()"
      ],
      "execution_count": null,
      "outputs": [
        {
          "output_type": "display_data",
          "data": {
            "image/png": "[encoded data removed]",
            "text/plain": [
              "<Figure size 432x288 with 1 Axes>"
            ]
          },
          "metadata": {
            "tags": [],
            "needs_background": "light"
          }
        }
      ]
    },
    {
      "cell_type": "code",
      "metadata": {
        "id": "1JwKya6liNtC",
        "colab_type": "code",
        "colab": {},
        "outputId": "80b11591-90e4-4243-c7d4-c0eb9acd1e5d"
      },
      "source": [
        "predict_rent_2 = lambda area: a_2*(area**2) + b_2*area + c_2\n",
        "\n",
        "predict_rent_2(990)"
      ],
      "execution_count": null,
      "outputs": [
        {
          "output_type": "execute_result",
          "data": {
            "text/plain": [
              "1577.6586457750436"
            ]
          },
          "metadata": {
            "tags": []
          },
          "execution_count": 5
        }
      ]
    },
    {
      "cell_type": "markdown",
      "metadata": {
        "id": "4bfQziJKiNtF",
        "colab_type": "text"
      },
      "source": [
        "Let's compare both the models"
      ]
    },
    {
      "cell_type": "code",
      "metadata": {
        "id": "SVHKWL11iNtF",
        "colab_type": "code",
        "colab": {}
      },
      "source": [
        "# calculate difference between rent-predictions of 990 sqft house by model 1 and 2"
      ],
      "execution_count": null,
      "outputs": []
    },
    {
      "cell_type": "markdown",
      "metadata": {
        "id": "3_fNVQ6fiNtI",
        "colab_type": "text"
      },
      "source": [
        "The second degree model had the flexibility and predicted closer to what we are expecting. But we want to save more money and yes the model can be improved.\n",
        "### As curious as Curious George?\n",
        "![image.png](attachment:dbcd99a8-e36e-4067-a11e-0425ce8ba53f.png)\n",
        "\n",
        "Want to go for a 3rd degree polynomial? What are you waiting for? start coding! $$y = ax^3 + bx^2 + cx + d$$"
      ]
    },
    {
      "cell_type": "code",
      "metadata": {
        "id": "Tqtj1xf8iNtJ",
        "colab_type": "code",
        "colab": {}
      },
      "source": [
        "# 5 minutes\n",
        "# your code here\n",
        "# plot and write the lambda function to predict"
      ],
      "execution_count": null,
      "outputs": []
    },
    {
      "cell_type": "markdown",
      "metadata": {
        "id": "5QWsaPzOiNtL",
        "colab_type": "text"
      },
      "source": [
        "Thinking about taking over zillow? Not just yet.\n",
        "### So far so good, the model is doing well. But how did we even get there?\n",
        "We found the values for the variables $a, b,c, d$. How do we calculate those values? Let's take a deep breath and look at this flow first:\n",
        "\n",
        "Step 1: Initialize the equation with random values for $a, b(, c, d)$<br />\n",
        "Step 2: Substitute value of x and calculate y, let's consider this y value to be y_pred and actual y value to be y_actual<br />\n",
        "Step 3: Repeat Step 2,calculate Y_preds for all the Ys' using their respective Xs'<br />\n",
        "Step 4: Given cost function, $f(cost)$. Calculate cost using the y_preds and y_actuals <br /> \n",
        "Step 5: Is the cost 0 or closer to 0? If it is a Yes, then we found ABCDs. It it is a No, then repeat from Step 2 now by adjusting ABCD, given a $f(ABCD)$<br />\n",
        "\n",
        "![image.png](attachment:ad84adac-451d-471d-ae52-abde1c75ba47.png)\n",
        "\n",
        "Do not worry about those functions yet. Understand the flow and familiarize yourself with it. Every complex algorithm follows a similar flow except the equations in Step 1, Step 4 and Step 5 will differ which we will look into, later."
      ]
    },
    {
      "cell_type": "markdown",
      "metadata": {
        "id": "WIe8XmlUiNtL",
        "colab_type": "text"
      },
      "source": [
        "### Cost function\n",
        "$$f(cost) = {\\frac{1}{n}\\Sigma_{i=1}^{n}{(y_{pred} - y_{actual})^2}},$$\n",
        "$y_{pred} = ax + b$<br />\n",
        "$n$ is the total number of data points"
      ]
    },
    {
      "cell_type": "code",
      "metadata": {
        "id": "M8IM9FIdiNtM",
        "colab_type": "code",
        "colab": {},
        "outputId": "6cb9e60e-07fd-4c09-d9fc-ee39e0b9bee4"
      },
      "source": [
        "def cost_function(X, Y, a, b):\n",
        "    \"\"\"\n",
        "    Parameters\n",
        "    ----------\n",
        "    X : list\n",
        "        The input values that will be substituted to find y. \n",
        "    \n",
        "    Y : list\n",
        "        The values of the function at each data point.\n",
        "        \n",
        "    a, b: float\n",
        "    \n",
        "    Returns\n",
        "    -------\n",
        "    cost : float\n",
        "        The value of the regression cost function.\n",
        "    \"\"\"\n",
        "    predict_y = lambda x: a*x + b\n",
        "    cost = 0.0\n",
        "    for i in range(len(Y)):\n",
        "        # Write the equation here to calculate cost for each data point and\n",
        "        # add it to cost variable\n",
        "        cost += (predict_y(X[i]) - Y[i]) ** 2\n",
        "        # ******Remove*********\n",
        "    return cost/len(Y)\n",
        "\n",
        "\n",
        "cost_function(house_area.tolist(), rent.tolist(), 0.92450331, 696.95364238)\n",
        "cost_function(house_area.tolist(), rent.tolist(), 1.8482632809705084, 0.0026302286012363603)\n",
        "# Calculate cost for your choice of a, b, c, d\n",
        "# Calculate cost for a, b, c, d obtained from np.polyfit"
      ],
      "execution_count": null,
      "outputs": [
        {
          "output_type": "execute_result",
          "data": {
            "text/plain": [
              "107643.78171253277"
            ]
          },
          "metadata": {
            "tags": []
          },
          "execution_count": 15
        }
      ]
    },
    {
      "cell_type": "markdown",
      "metadata": {
        "id": "SKEDE5sOiNtO",
        "colab_type": "text"
      },
      "source": [
        "So close!!\n",
        "\n",
        "We have written a function to validate our model. But without the help of polyfit, can you identify the best values for abcd where the error is 0 or close to 0.\n",
        "\n",
        "### Introducing Gradient Descent\n",
        "![image.png](attachment:61d01e25-8859-4377-83f7-043e4bf1abf9.png)"
      ]
    },
    {
      "cell_type": "markdown",
      "metadata": {
        "id": "NMbT8FEdiNtO",
        "colab_type": "text"
      },
      "source": [
        "The idea is to reduce our error to the global minimum, by adjusting the values of variables abcd. The above curve is the cost function curve. The arrow is pointing to a negative gradient direction. At any point on the curve, we choose our direction based on this gradient and how many points do we move in that direction? That will be controlled by a variable called learning_rate. Learning rate decides the rate at which you will attain global minimum. Lower learning rate means more precision but we are trading off computing time."
      ]
    },
    {
      "cell_type": "code",
      "metadata": {
        "id": "tLaz1R_eiNtP",
        "colab_type": "code",
        "colab": {}
      },
      "source": [
        "def update_variables(X, Y, a, b, learning_rate):\n",
        "    predict_y = lambda x, a, b: a*x + b\n",
        "    a_deriv = b_deriv = 0\n",
        "    n = len(X)\n",
        "    for i in range(n):\n",
        "        # Calculate partial derivatives\n",
        "        \n",
        "        y_pred = predict_y(X[i], a, b)\n",
        "        \n",
        "                 # -2x(y - (ax + b))\n",
        "        a_deriv += -2*X[i] * (Y[i] - y_pred)\n",
        "\n",
        "                 # -2(y - (ax + b))\n",
        "        b_deriv += -2 * (Y[i] - y_pred)\n",
        "\n",
        "    # We subtract because the derivatives point in direction of steepest ascent\n",
        "    a -= (a_deriv / n) * learning_rate\n",
        "    b -= (b_deriv / n) * learning_rate\n",
        "\n",
        "    return a, b"
      ],
      "execution_count": null,
      "outputs": []
    },
    {
      "cell_type": "markdown",
      "metadata": {
        "id": "SomgEFXLiNtR",
        "colab_type": "text"
      },
      "source": [
        "### Time to train the model"
      ]
    },
    {
      "cell_type": "code",
      "metadata": {
        "id": "LzCAbj2WiNtS",
        "colab_type": "code",
        "colab": {}
      },
      "source": [
        "def train(X, Y, a, b, learning_rate, iters):\n",
        "    cost_history = []\n",
        "\n",
        "    for i in range(iters):\n",
        "        a, b = update_variables(X, Y, a, b, learning_rate)\n",
        "\n",
        "        cost = cost_function(X, Y, a, b)\n",
        "        cost_history.append(cost)\n",
        "\n",
        "        # Log Progress\n",
        "        if i % 100 == 0:\n",
        "            print(\"iter={:d}    a={:.3f}    b={:.3f}    cost={:.2}\".format(i, a, b, cost))\n",
        "            \n",
        "    return cost_history"
      ],
      "execution_count": null,
      "outputs": []
    },
    {
      "cell_type": "markdown",
      "metadata": {
        "id": "IoLJnUaziNtU",
        "colab_type": "text"
      },
      "source": [
        "### Let's use random data for once before we use the housing data"
      ]
    },
    {
      "cell_type": "code",
      "metadata": {
        "id": "3y1iDpuSiNtU",
        "colab_type": "code",
        "colab": {},
        "outputId": "74b18048-d002-4224-ecf5-651ad977503a"
      },
      "source": [
        "random_data_cost_history = train([0.0, 1.0, 2.0, 3.0,  4.0,  5.0], [0.0, 0.8, 0.9, 0.1, -0.8, -1.0], 0.0, 0.0, 0.1, 3000)"
      ],
      "execution_count": null,
      "outputs": [
        {
          "output_type": "stream",
          "text": [
            "iter=0    a=-0.177    b=0.000    cost=0.49\n",
            "iter=100    a=-0.308    b=0.754    cost=0.25\n",
            "iter=200    a=-0.303    b=0.757    cost=0.25\n",
            "iter=300    a=-0.303    b=0.757    cost=0.25\n",
            "iter=400    a=-0.303    b=0.757    cost=0.25\n",
            "iter=500    a=-0.303    b=0.757    cost=0.25\n",
            "iter=600    a=-0.303    b=0.757    cost=0.25\n",
            "iter=700    a=-0.303    b=0.757    cost=0.25\n",
            "iter=800    a=-0.303    b=0.757    cost=0.25\n",
            "iter=900    a=-0.303    b=0.757    cost=0.25\n",
            "iter=1000    a=-0.303    b=0.757    cost=0.25\n",
            "iter=1100    a=-0.303    b=0.757    cost=0.25\n",
            "iter=1200    a=-0.303    b=0.757    cost=0.25\n",
            "iter=1300    a=-0.303    b=0.757    cost=0.25\n",
            "iter=1400    a=-0.303    b=0.757    cost=0.25\n",
            "iter=1500    a=-0.303    b=0.757    cost=0.25\n",
            "iter=1600    a=-0.303    b=0.757    cost=0.25\n",
            "iter=1700    a=-0.303    b=0.757    cost=0.25\n",
            "iter=1800    a=-0.303    b=0.757    cost=0.25\n",
            "iter=1900    a=-0.303    b=0.757    cost=0.25\n",
            "iter=2000    a=-0.303    b=0.757    cost=0.25\n",
            "iter=2100    a=-0.303    b=0.757    cost=0.25\n",
            "iter=2200    a=-0.303    b=0.757    cost=0.25\n",
            "iter=2300    a=-0.303    b=0.757    cost=0.25\n",
            "iter=2400    a=-0.303    b=0.757    cost=0.25\n",
            "iter=2500    a=-0.303    b=0.757    cost=0.25\n",
            "iter=2600    a=-0.303    b=0.757    cost=0.25\n",
            "iter=2700    a=-0.303    b=0.757    cost=0.25\n",
            "iter=2800    a=-0.303    b=0.757    cost=0.25\n",
            "iter=2900    a=-0.303    b=0.757    cost=0.25\n"
          ],
          "name": "stdout"
        }
      ]
    },
    {
      "cell_type": "code",
      "metadata": {
        "id": "5vEcl281iNtX",
        "colab_type": "code",
        "colab": {},
        "outputId": "53669277-4fe5-41fc-d174-f3f088681775"
      },
      "source": [
        "plt.plot(random_data_cost_history)\n",
        "plt.show()"
      ],
      "execution_count": null,
      "outputs": [
        {
          "output_type": "display_data",
          "data": {
            "image/png": "[encoded data removed]",
            "text/plain": [
              "<Figure size 432x288 with 1 Axes>"
            ]
          },
          "metadata": {
            "tags": [],
            "needs_background": "light"
          }
        }
      ]
    },
    {
      "cell_type": "code",
      "metadata": {
        "id": "wDz9L_f4iNta",
        "colab_type": "code",
        "colab": {},
        "outputId": "9bb79a51-5a02-4a8c-e0f4-3e8db75e7d28"
      },
      "source": [
        "x = np.array([0.0, 1.0, 2.0, 3.0,  4.0,  5.0])\n",
        "y = np.array([0.0, 0.8, 0.9, 0.1, -0.8, -1.0])\n",
        "\n",
        "def plot_custom(x, y, a, b, title):\n",
        "    plt.plot(x, y, 'x')\n",
        "    plt.xlabel('x')\n",
        "    plt.ylabel('y')\n",
        "    plt.title(title)\n",
        "\n",
        "    plt.plot(x, a*x + b)\n",
        "    plt.show()\n",
        "    \n",
        "plot_custom(x, y, -0.177, 0, \"a=-0.177, b=0\")\n",
        "plot_custom(x, y, -0.313, 0.743, \"a=-0.313, b=0.743\")\n",
        "plot_custom(x, y, -0.303, 0.757, \"a=-0.303, b=0.757\")"
      ],
      "execution_count": null,
      "outputs": [
        {
          "output_type": "display_data",
          "data": {
            "image/png": "[encoded data removed]",
            "text/plain": [
              "<Figure size 432x288 with 1 Axes>"
            ]
          },
          "metadata": {
            "tags": [],
            "needs_background": "light"
          }
        },
        {
          "output_type": "display_data",
          "data": {
            "image/png": "[encoded data removed]",
            "text/plain": [
              "<Figure size 432x288 with 1 Axes>"
            ]
          },
          "metadata": {
            "tags": [],
            "needs_background": "light"
          }
        },
        {
          "output_type": "display_data",
          "data": {
            "image/png": "[encoded data removed]",
            "text/plain": [
              "<Figure size 432x288 with 1 Axes>"
            ]
          },
          "metadata": {
            "tags": [],
            "needs_background": "light"
          }
        }
      ]
    },
    {
      "cell_type": "code",
      "metadata": {
        "id": "DSATmbvXiNtb",
        "colab_type": "code",
        "colab": {},
        "outputId": "b744a144-65a2-4222-a98c-7bc9c2d4c14b"
      },
      "source": [
        "x = np.array([0.0, 1.0, 2.0, 3.0,  4.0,  5.0])\n",
        "y = np.array([0.0, 0.8, 0.9, 0.1, -0.8, -1.0])\n",
        "np.polyfit(x, y, 1)"
      ],
      "execution_count": null,
      "outputs": [
        {
          "output_type": "execute_result",
          "data": {
            "text/plain": [
              "array([-0.30285714,  0.75714286])"
            ]
          },
          "metadata": {
            "tags": []
          },
          "execution_count": 177
        }
      ]
    },
    {
      "cell_type": "markdown",
      "metadata": {
        "id": "MMeJrYFviNtd",
        "colab_type": "text"
      },
      "source": [
        "### Let's get back to housing data and Normalize it. But Why?\n",
        "\n"
      ]
    },
    {
      "cell_type": "code",
      "metadata": {
        "id": "Mu5KvUZgiNte",
        "colab_type": "code",
        "colab": {},
        "outputId": "82c90e7a-cbd3-405b-dff2-2ae8227c2769"
      },
      "source": [
        "X = [300, 650, 1000, 1200]\n",
        "Y = [ 1000, 1300, 1500, 1900 ]\n",
        "\n",
        "x_min, x_max, y_min, y_max = min(X), max(X), min(Y), max(Y)\n",
        "\n",
        "min_max_scaler_X = lambda x: (x-x_min)/(x_max-x_min)\n",
        "min_max_scaler_Y = lambda y: (y-y_min)/(y_max-y_min)\n",
        "\n",
        "X_norm = list(map(min_max_scaler_X, X))\n",
        "Y_norm = list(map(min_max_scaler_Y, Y))\n",
        "\n",
        "train(X_norm, Y_norm, 0.0, 0.0, 0.1, 400)"
      ],
      "execution_count": null,
      "outputs": [
        {
          "output_type": "stream",
          "text": [
            "iter=0    a=0.078    b=0.094    cost=0.22\n",
            "iter=100    a=0.851    b=0.016    cost=0.0083\n",
            "iter=200    a=0.916    b=-0.024    cost=0.0075\n",
            "iter=300    a=0.924    b=-0.028    cost=0.0075\n"
          ],
          "name": "stdout"
        }
      ]
    },
    {
      "cell_type": "code",
      "metadata": {
        "id": "P1bAFM3CiNtg",
        "colab_type": "code",
        "colab": {},
        "outputId": "2f627768-3810-4ef7-a9ed-bfad4b3efb2f"
      },
      "source": [
        "scale_out_x = lambda x: x*(x_max-x_min) + x_min\n",
        "scale_out_y = lambda y: y*(y_max-y_min) + y_min\n",
        "\n",
        "def plot_custom(x_norm, x, y, a, b, title):\n",
        "    plt.plot(x, y, 'x')\n",
        "    plt.xlabel('x')\n",
        "    plt.ylabel('y')\n",
        "    plt.title(title)\n",
        "\n",
        "    plt.plot(list(map(scale_out_x, x_norm)), list(map(scale_out_y, [a*i+b for i in X_norm])))\n",
        "    plt.show()\n",
        "    \n",
        "plot_custom(np.array(X_norm), np.array(X), np.array(Y), 0.078, 0.094, \"a=0.078, b=0.094\")\n",
        "plot_custom(np.array(X_norm), np.array(X), np.array(Y), 0.851, 0.016, \"a=0.851, b=0.016\")\n",
        "plot_custom(np.array(X_norm), np.array(X), np.array(Y), 0.925, -0.029, \"a=0.925, b=-0.029\")"
      ],
      "execution_count": null,
      "outputs": [
        {
          "output_type": "display_data",
          "data": {
            "image/png": "[encoded data removed]",
            "text/plain": [
              "<Figure size 432x288 with 1 Axes>"
            ]
          },
          "metadata": {
            "tags": [],
            "needs_background": "light"
          }
        },
        {
          "output_type": "display_data",
          "data": {
            "image/png": "[encoded data removed]",
            "text/plain": [
              "<Figure size 432x288 with 1 Axes>"
            ]
          },
          "metadata": {
            "tags": [],
            "needs_background": "light"
          }
        },
        {
          "output_type": "display_data",
          "data": {
            "image/png": "[encoded data removed]",
            "text/plain": [
              "<Figure size 432x288 with 1 Axes>"
            ]
          },
          "metadata": {
            "tags": [],
            "needs_background": "light"
          }
        }
      ]
    },
    {
      "cell_type": "markdown",
      "metadata": {
        "id": "Xoa4Z_oEiNtj",
        "colab_type": "text"
      },
      "source": [
        "The model we created in the above sections is wonderful. Let's kick start our billion dollar idea? Not just yet. But not often the output is dependant on single variable. Multiple factors contribute to the output. That brings us to \n",
        "\n",
        "### Multivariate linear regression\n",
        "In simple words, dependant variable relies on multiple independant variables. Translate this to our house price prediction problem, now we have another factor influencing the rent, #-of-bedrooms. We can represent a general multivariate equation as,\n",
        "\n",
        "$$y = a + b_1x_1 + b_2x_2 + b_3x_3 +...$$\n",
        "\n",
        "x1 is the area and x2 is #-of-bedrooms in our case."
      ]
    },
    {
      "cell_type": "code",
      "metadata": {
        "id": "-aIJvJ1CKuW5",
        "colab_type": "code",
        "colab": {}
      },
      "source": [
        "def cost_function_multivariate(X, Y, a, b1, b2):\n",
        "    \"\"\"\n",
        "    Parameters\n",
        "    ----------\n",
        "    X : list\n",
        "        The input values that will be substituted to find y. \n",
        "    \n",
        "    Y : list\n",
        "        The values of the function at each data point.\n",
        "        \n",
        "    a, b1, b2: float\n",
        "    \n",
        "    Returns\n",
        "    -------\n",
        "    cost : float\n",
        "        The value of the regression cost function.\n",
        "    \"\"\"\n",
        "    predict_y = lambda x1, x2: a + b1*x1 + b2*x2\n",
        "    cost = 0.0\n",
        "    for i in range(len(Y)):\n",
        "        # Write the equation here to calculate cost for each data point and\n",
        "        # add it to cost variable\n",
        "        cost += (predict_y(X[i][0], X[i][1]) - Y[i]) ** 2\n",
        "        # ******Remove*********\n",
        "    return cost/len(Y)"
      ],
      "execution_count": 1,
      "outputs": []
    },
    {
      "cell_type": "code",
      "metadata": {
        "id": "sukUMrKhKvq9",
        "colab_type": "code",
        "colab": {}
      },
      "source": [
        "def update_variables_multivariate(X, Y, a, b1, b2, learning_rate):\n",
        "    predict_y = lambda x1, x2, a, b1, b2: a + b1*x1 + b2*x2\n",
        "    a_deriv = b1_deriv = b2_deriv = 0\n",
        "    n = len(X)\n",
        "    for i in range(n):\n",
        "        # Calculate partial derivatives\n",
        "        \n",
        "        y_pred = predict_y(X[i][0], X[i][1], a, b1, b2)\n",
        "        \n",
        "                 # -2(y - (ax + b))\n",
        "        a_deriv += -2 * (Y[i] - y_pred)\n",
        "\n",
        "                 # -2x1(y - (ax + b))\n",
        "        b1_deriv += -2 * X[i][0] * (Y[i] - y_pred)\n",
        "\n",
        "                 # -2x2(y - (ax + b))\n",
        "        b1_deriv += -2 * X[i][1] * (Y[i] - y_pred)\n",
        "\n",
        "    # We subtract because the derivatives point in direction of steepest ascent\n",
        "    a -= (a_deriv / n) * learning_rate\n",
        "    b1 -= (b1_deriv / n) * learning_rate\n",
        "    b2 -= (b2_deriv / n) * learning_rate\n",
        "\n",
        "    return a, b1, b2"
      ],
      "execution_count": 2,
      "outputs": []
    },
    {
      "cell_type": "code",
      "metadata": {
        "id": "iB3cagm0KymG",
        "colab_type": "code",
        "colab": {}
      },
      "source": [
        "def train(X, Y, a, b1, b2, learning_rate, iters):\n",
        "    cost_history = []\n",
        "\n",
        "    for i in range(iters):\n",
        "        a, b1, b2 = update_variables_multivariate(X, Y, a, b1, b2, learning_rate)\n",
        "\n",
        "        cost = cost_function_multivariate(X, Y, a, b1, b2)\n",
        "        cost_history.append(cost)\n",
        "\n",
        "        # Log Progress\n",
        "        if i % 100 == 0:\n",
        "            print(\"iter={:d}    a={:.3f}    b1={:.3f}    b2={:.3f}    cost={:.2}\".format(i, a, b1, b2, cost))\n",
        "            \n",
        "    # return cost_history"
      ],
      "execution_count": 12,
      "outputs": []
    },
    {
      "cell_type": "code",
      "metadata": {
        "id": "XPUGWZ7pK80o",
        "colab_type": "code",
        "colab": {
          "base_uri": "https://localhost:8080/",
          "height": 102
        },
        "outputId": "6ca764a6-602b-485d-e226-5dc50aac6b0b"
      },
      "source": [
        "X = [[300, 0], [650, 1], [1000, 1], [1200, 2]]\n",
        "X1 = [300, 650, 1000, 1200]\n",
        "X2 = [0, 1, 1, 2]\n",
        "Y = [1000, 1300, 1500, 1900]\n",
        "\n",
        "x1_min, x1_max, x2_min, x2_max, y_min, y_max = min(X1), max(X1), min(X2), max(X2), min(Y), max(Y)\n",
        "\n",
        "min_max_scaler = lambda x, xmax, xmin: (x-xmin)/(xmax-xmin)\n",
        "\n",
        "X1_norm = [min_max_scaler(i, x1_max, x1_min) for i in X1]\n",
        "X2_norm = [min_max_scaler(i, x2_max, x2_min) for i in X2]\n",
        "Y_norm = [min_max_scaler(i, y_max, y_min) for i in Y]\n",
        "\n",
        "X_norm = [[i, j] for i, j in zip(X1_norm, X2_norm)]\n",
        "\n",
        "X_norm, Y_norm"
      ],
      "execution_count": 8,
      "outputs": [
        {
          "output_type": "execute_result",
          "data": {
            "text/plain": [
              "([[0.0, 0.0],\n",
              "  [0.3888888888888889, 0.5],\n",
              "  [0.7777777777777778, 0.5],\n",
              "  [1.0, 1.0]],\n",
              " [0.0, 0.3333333333333333, 0.5555555555555556, 1.0])"
            ]
          },
          "metadata": {
            "tags": []
          },
          "execution_count": 8
        }
      ]
    },
    {
      "cell_type": "code",
      "metadata": {
        "id": "9uQUODSSN_31",
        "colab_type": "code",
        "colab": {
          "base_uri": "https://localhost:8080/",
          "height": 697
        },
        "outputId": "2c4a7e37-b078-456d-9ec0-a5cfed45e667"
      },
      "source": [
        "train(X_norm, Y_norm, 0.0, 0.0, 0.0, 0.1, 4000)"
      ],
      "execution_count": 13,
      "outputs": [
        {
          "output_type": "stream",
          "text": [
            "iter=0    a=0.094    b1=0.150    b2=0.000    cost=0.18\n",
            "iter=100    a=-0.034    b1=0.939    b2=0.000    cost=0.0075\n",
            "iter=200    a=-0.047    b1=0.959    b2=0.000    cost=0.0076\n",
            "iter=300    a=-0.047    b1=0.959    b2=0.000    cost=0.0076\n",
            "iter=400    a=-0.047    b1=0.959    b2=0.000    cost=0.0076\n",
            "iter=500    a=-0.047    b1=0.959    b2=0.000    cost=0.0076\n",
            "iter=600    a=-0.047    b1=0.959    b2=0.000    cost=0.0076\n",
            "iter=700    a=-0.047    b1=0.959    b2=0.000    cost=0.0076\n",
            "iter=800    a=-0.047    b1=0.959    b2=0.000    cost=0.0076\n",
            "iter=900    a=-0.047    b1=0.959    b2=0.000    cost=0.0076\n",
            "iter=1000    a=-0.047    b1=0.959    b2=0.000    cost=0.0076\n",
            "iter=1100    a=-0.047    b1=0.959    b2=0.000    cost=0.0076\n",
            "iter=1200    a=-0.047    b1=0.959    b2=0.000    cost=0.0076\n",
            "iter=1300    a=-0.047    b1=0.959    b2=0.000    cost=0.0076\n",
            "iter=1400    a=-0.047    b1=0.959    b2=0.000    cost=0.0076\n",
            "iter=1500    a=-0.047    b1=0.959    b2=0.000    cost=0.0076\n",
            "iter=1600    a=-0.047    b1=0.959    b2=0.000    cost=0.0076\n",
            "iter=1700    a=-0.047    b1=0.959    b2=0.000    cost=0.0076\n",
            "iter=1800    a=-0.047    b1=0.959    b2=0.000    cost=0.0076\n",
            "iter=1900    a=-0.047    b1=0.959    b2=0.000    cost=0.0076\n",
            "iter=2000    a=-0.047    b1=0.959    b2=0.000    cost=0.0076\n",
            "iter=2100    a=-0.047    b1=0.959    b2=0.000    cost=0.0076\n",
            "iter=2200    a=-0.047    b1=0.959    b2=0.000    cost=0.0076\n",
            "iter=2300    a=-0.047    b1=0.959    b2=0.000    cost=0.0076\n",
            "iter=2400    a=-0.047    b1=0.959    b2=0.000    cost=0.0076\n",
            "iter=2500    a=-0.047    b1=0.959    b2=0.000    cost=0.0076\n",
            "iter=2600    a=-0.047    b1=0.959    b2=0.000    cost=0.0076\n",
            "iter=2700    a=-0.047    b1=0.959    b2=0.000    cost=0.0076\n",
            "iter=2800    a=-0.047    b1=0.959    b2=0.000    cost=0.0076\n",
            "iter=2900    a=-0.047    b1=0.959    b2=0.000    cost=0.0076\n",
            "iter=3000    a=-0.047    b1=0.959    b2=0.000    cost=0.0076\n",
            "iter=3100    a=-0.047    b1=0.959    b2=0.000    cost=0.0076\n",
            "iter=3200    a=-0.047    b1=0.959    b2=0.000    cost=0.0076\n",
            "iter=3300    a=-0.047    b1=0.959    b2=0.000    cost=0.0076\n",
            "iter=3400    a=-0.047    b1=0.959    b2=0.000    cost=0.0076\n",
            "iter=3500    a=-0.047    b1=0.959    b2=0.000    cost=0.0076\n",
            "iter=3600    a=-0.047    b1=0.959    b2=0.000    cost=0.0076\n",
            "iter=3700    a=-0.047    b1=0.959    b2=0.000    cost=0.0076\n",
            "iter=3800    a=-0.047    b1=0.959    b2=0.000    cost=0.0076\n",
            "iter=3900    a=-0.047    b1=0.959    b2=0.000    cost=0.0076\n"
          ],
          "name": "stdout"
        }
      ]
    },
    {
      "cell_type": "markdown",
      "metadata": {
        "id": "tqOy0SyiO56w",
        "colab_type": "text"
      },
      "source": [
        "Feature importance"
      ]
    },
    {
      "cell_type": "markdown",
      "metadata": {
        "id": "dnt3DWSgiNtk",
        "colab_type": "text"
      },
      "source": [
        "### Testing the model(test/train data, accuracy and precision)\n",
        "#### Let me introduce you to some Evaluation Metrics\n",
        "There is no single tool for everything. \n",
        "### Trees\n",
        "### Neural networks\n",
        "### Unsupervised ML\n",
        "### Deep learning"
      ]
    },
    {
      "cell_type": "markdown",
      "metadata": {
        "id": "xt3Uk8YViNtk",
        "colab_type": "text"
      },
      "source": [
        "### How can you decide what equation(ML algorithm) to use?"
      ]
    },
    {
      "cell_type": "code",
      "metadata": {
        "id": "uR_uQcKHiNtk",
        "colab_type": "code",
        "colab": {}
      },
      "source": [
        ""
      ],
      "execution_count": null,
      "outputs": []
    }
  ]
}