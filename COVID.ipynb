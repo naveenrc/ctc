{
  "nbformat": 4,
  "nbformat_minor": 0,
  "metadata": {
    "kernelspec": {
      "display_name": "Python 3",
      "language": "python",
      "name": "python3"
    },
    "language_info": {
      "codemirror_mode": {
        "name": "ipython",
        "version": 3
      },
      "file_extension": ".py",
      "mimetype": "text/x-python",
      "name": "python",
      "nbconvert_exporter": "python",
      "pygments_lexer": "ipython3",
      "version": "3.7.0"
    },
    "colab": {
      "name": "COVID.ipynb",
      "provenance": []
    }
  },
  "cells": [
    {
      "cell_type": "markdown",
      "metadata": {
        "id": "-pKZAzZpmu1G",
        "colab_type": "text"
      },
      "source": [
        "### Concepts in Statistics"
      ]
    },
    {
      "cell_type": "markdown",
      "metadata": {
        "id": "y36JqUPVmu1G",
        "colab_type": "text"
      },
      "source": [
        "#### Creating a Dataset"
      ]
    },
    {
      "cell_type": "code",
      "metadata": {
        "id": "MXTwUEnXmu1H",
        "colab_type": "code",
        "colab": {
          "base_uri": "https://localhost:8080/",
          "height": 265
        },
        "outputId": "9c015b3c-558b-4c6e-8f2c-cfe9e656af7b"
      },
      "source": [
        "import numpy as np\n",
        "from scipy import stats\n",
        "\n",
        "import matplotlib\n",
        "import matplotlib.pyplot as plt\n",
        "import requests\n",
        "import io\n",
        "%matplotlib inline\n",
        "matplotlib.style.use('ggplot')\n",
        "\n",
        "np.random.seed(1)\n",
        "data = np.round(np.random.normal(5, 2, 100))\n",
        "plt.hist(data, bins=10, range=(0,10), edgecolor='black')\n",
        "plt.show()"
      ],
      "execution_count": 1,
      "outputs": [
        {
          "output_type": "display_data",
          "data": {
            "image/png": "[encoded data removed]",
            "text/plain": [
              "<Figure size 432x288 with 1 Axes>"
            ]
          },
          "metadata": {
            "tags": []
          }
        }
      ]
    },
    {
      "cell_type": "markdown",
      "metadata": {
        "id": "ohqH8JM3mu1L",
        "colab_type": "text"
      },
      "source": [
        "#### Measures of Central Tendency\n",
        "\n",
        "Our measures of central tendency include mean, median or mode\n",
        "\n",
        "The mean is calculated as\n",
        "\n",
        "μ=∑Ni=1xiN The median value is the middlemost value, you take the value in the position of\n",
        "\n",
        "n+12 of the sorted data.\n",
        "\n",
        "The mode is the most frequent value."
      ]
    },
    {
      "cell_type": "markdown",
      "metadata": {
        "id": "DXO44Tdomu1L",
        "colab_type": "text"
      },
      "source": [
        "#### Mean"
      ]
    },
    {
      "cell_type": "code",
      "metadata": {
        "id": "TWj-A9APmu1M",
        "colab_type": "code",
        "colab": {}
      },
      "source": [
        "mean = np.mean(data)\n",
        "mean"
      ],
      "execution_count": null,
      "outputs": []
    },
    {
      "cell_type": "markdown",
      "metadata": {
        "id": "hgX24UWZmu1O",
        "colab_type": "text"
      },
      "source": [
        "#### Median\n",
        "\n",
        "Numpy also implements a median function for calculating the median:"
      ]
    },
    {
      "cell_type": "code",
      "metadata": {
        "id": "tTejdzvnmu1P",
        "colab_type": "code",
        "colab": {}
      },
      "source": [
        "np.median(data)"
      ],
      "execution_count": null,
      "outputs": []
    },
    {
      "cell_type": "markdown",
      "metadata": {
        "id": "sKh-lXwvmu1R",
        "colab_type": "text"
      },
      "source": [
        "#### Mode\n",
        "\n",
        "We can see from our histogram already that 5 is the modal value.\n",
        "\n",
        "There is no in-built numpy mode function, but there is one from the scipy stats module we can use."
      ]
    },
    {
      "cell_type": "code",
      "metadata": {
        "id": "koOIOedcmu1R",
        "colab_type": "code",
        "colab": {}
      },
      "source": [
        "mode = stats.mode(data)\n",
        "\n",
        "print(\"The modal value is {} with a count of {}\".format(mode.mode[0], mode.count[0]))"
      ],
      "execution_count": null,
      "outputs": []
    },
    {
      "cell_type": "markdown",
      "metadata": {
        "id": "0AkNojRQmu1T",
        "colab_type": "text"
      },
      "source": [
        "#### Range\n",
        "\n",
        "The range gives a measure of how spread apart the values are.\n",
        "\n",
        "The range is simply calculated as the maximum value – minimum value\n",
        "\n",
        "Max(xi) – Min(xi) Numpy implements this as a point to point function np.ptp."
      ]
    },
    {
      "cell_type": "code",
      "metadata": {
        "id": "NGDnQLVbmu1U",
        "colab_type": "code",
        "colab": {}
      },
      "source": [
        "np.ptp(data)"
      ],
      "execution_count": null,
      "outputs": []
    },
    {
      "cell_type": "markdown",
      "metadata": {
        "id": "v0AJMVOimu1W",
        "colab_type": "text"
      },
      "source": [
        "#### Variance\n",
        "\n",
        "Variance is a measure of how variable the data is, it is calculated as:\n",
        "\n",
        "σ2=∑Ni=1(xi–μ)2N Numpy implements the variance as a function np.var()"
      ]
    },
    {
      "cell_type": "code",
      "metadata": {
        "id": "p0bXSpSimu1W",
        "colab_type": "code",
        "colab": {}
      },
      "source": [
        "np.var(data)"
      ],
      "execution_count": null,
      "outputs": []
    },
    {
      "cell_type": "markdown",
      "metadata": {
        "id": "ovvjmy-Ymu1Z",
        "colab_type": "text"
      },
      "source": [
        "#### Standard Deviation\n",
        "\n",
        "The variance can get very large for large data sets and so we will often use the standard deviation, which is the square root of the variance:\n",
        "\n",
        "σ=σ2‾‾‾√ 68.2% of the data falls within 1 standard deviation of the mean, 95.4% falls within 2 standard deviations of the mean, and 99.7% falls within 3 standard deviations.\n",
        "\n",
        "This is implemented in Numpy as np.std()"
      ]
    },
    {
      "cell_type": "code",
      "metadata": {
        "id": "nvhxShgfmu1Z",
        "colab_type": "code",
        "colab": {}
      },
      "source": [
        "np.std(data)"
      ],
      "execution_count": null,
      "outputs": []
    },
    {
      "cell_type": "markdown",
      "metadata": {
        "id": "8rZ1e9zfmu1b",
        "colab_type": "text"
      },
      "source": [
        "#### Standard Error\n",
        "\n",
        "The standard error of the mean (SE of the mean) estimates the variability between sample means that you would obtain if you took multiple samples from the same population. The standard error of the mean estimates the variability between samples whereas the standard deviation measures the variability within a single sample.\n",
        "\n",
        "It is calculated as:\n",
        "\n",
        "SE=s/√n Where s is the sample standard deviation. Again Numpy doesn’t have an implementation of this (though it is easy to calculate), but we can use scipy’s stats module instead:"
      ]
    },
    {
      "cell_type": "code",
      "metadata": {
        "id": "4LHgweJgmu1c",
        "colab_type": "code",
        "colab": {}
      },
      "source": [
        "stats.sem(data)"
      ],
      "execution_count": null,
      "outputs": []
    },
    {
      "cell_type": "markdown",
      "metadata": {
        "id": "_Bjf_hlTmu1d",
        "colab_type": "text"
      },
      "source": [
        "### Exercise\n",
        "Find the mean, median, mode and std deviation for the following list"
      ]
    },
    {
      "cell_type": "code",
      "metadata": {
        "id": "KJXHDasAmu1e",
        "colab_type": "code",
        "colab": {}
      },
      "source": [
        "example = [1,22,65,95,593,860,13,54,65,96]"
      ],
      "execution_count": null,
      "outputs": []
    },
    {
      "cell_type": "code",
      "metadata": {
        "id": "7umS4C5Cmu1g",
        "colab_type": "code",
        "colab": {}
      },
      "source": [
        ""
      ],
      "execution_count": null,
      "outputs": []
    },
    {
      "cell_type": "markdown",
      "metadata": {
        "id": "HjOvL23cmu1i",
        "colab_type": "text"
      },
      "source": [
        "### Exploratory Data Analysis"
      ]
    },
    {
      "cell_type": "markdown",
      "metadata": {
        "id": "LAl5u2Ermu1i",
        "colab_type": "text"
      },
      "source": [
        "In statistics, exploratory data analysis is an approach to analyzing data sets to summarize their main characteristics, often with visual methods. A statistical model can be used or not, but primarily EDA is for seeing what the data can tell us beyond the formal modeling or hypothesis testing task."
      ]
    },
    {
      "cell_type": "markdown",
      "metadata": {
        "id": "tY-5Kv3omu1j",
        "colab_type": "text"
      },
      "source": [
        "### Loading the required libraries and packages"
      ]
    },
    {
      "cell_type": "code",
      "metadata": {
        "id": "viATVR5xmu1j",
        "colab_type": "code",
        "colab": {}
      },
      "source": [
        "# essential libraries\n",
        "import json\n",
        "import random\n",
        "from urllib.request import urlopen\n",
        "\n",
        "# storing and anaysis\n",
        "import numpy as np\n",
        "import pandas as pd\n",
        "\n",
        "# visualization\n",
        "import matplotlib.pyplot as plt\n",
        "import seaborn as sns\n",
        "import plotly.express as px\n",
        "import plotly.graph_objs as go\n",
        "import plotly.figure_factory as ff\n",
        "import folium\n",
        "\n",
        "# color pallette\n",
        "cnf = '#393e46' # confirmed - grey\n",
        "dth = '#ff2e63' # death - red\n",
        "rec = '#21bf73' # recovered - cyan\n",
        "act = '#fe9801' # active case - yellow\n",
        "\n",
        "# converter\n",
        "from pandas.plotting import register_matplotlib_converters\n",
        "register_matplotlib_converters()   \n",
        "\n",
        "# hide warnings\n",
        "import warnings\n",
        "warnings.filterwarnings('ignore')\n",
        "\n",
        "# html embedding\n",
        "from IPython.display import Javascript\n",
        "from IPython.core.display import display, HTML"
      ],
      "execution_count": null,
      "outputs": []
    },
    {
      "cell_type": "markdown",
      "metadata": {
        "id": "fLMCso0Pmu1l",
        "colab_type": "text"
      },
      "source": [
        "### Loading the dataset"
      ]
    },
    {
      "cell_type": "code",
      "metadata": {
        "id": "aeu3birQmu1l",
        "colab_type": "code",
        "colab": {}
      },
      "source": [
        "url=\"https://raw.githubusercontent.com/naveenrc/ctc/master/covid_19_clean_complete.csv\"\n",
        "s=requests.get(url).content\n",
        "full_table=pd.read_csv(io.StringIO(s.decode('utf-8')))\n",
        "\n",
        "# full_table = pd.read_csv('covid_19_clean_complete.csv')\n",
        "full_table.head()"
      ],
      "execution_count": null,
      "outputs": []
    },
    {
      "cell_type": "markdown",
      "metadata": {
        "id": "XyJAoqYwmu1n",
        "colab_type": "text"
      },
      "source": [
        "### Cleaning the data and also filling missing values"
      ]
    },
    {
      "cell_type": "markdown",
      "metadata": {
        "id": "N2wD-t9Omu1o",
        "colab_type": "text"
      },
      "source": [
        "Lets remove some of the unwanted features like Latitude, Longitude, Date, etc. & keep the important features like Confirmed, Deaths, Recovered, etc.\n",
        "\n",
        "Also, lets combine the values for China as there are 2 names for China in the dataset. i.e. China and Mainland China"
      ]
    },
    {
      "cell_type": "code",
      "metadata": {
        "id": "fTriQ3K_mu1o",
        "colab_type": "code",
        "colab": {}
      },
      "source": [
        "# cases \n",
        "cases = ['Confirmed', 'Deaths', 'Recovered', 'Active']\n",
        "\n",
        "# Active Case = confirmed - deaths - recovered\n",
        "full_table['Active'] = full_table['Confirmed'] - full_table['Deaths'] - full_table['Recovered']\n",
        "\n",
        "# replacing Mainland china with just China\n",
        "full_table['Country/Region'] = full_table['Country/Region'].replace('Mainland China', 'China')\n",
        "\n",
        "# filling missing values \n",
        "full_table[['Province/State']] = full_table[['Province/State']].fillna('')\n",
        "full_table[cases] = full_table[cases].fillna(0)"
      ],
      "execution_count": null,
      "outputs": []
    },
    {
      "cell_type": "markdown",
      "metadata": {
        "id": "MdiPN3y5mu1q",
        "colab_type": "text"
      },
      "source": [
        "### Finding the cases that occurred on ships and finding cases in China"
      ]
    },
    {
      "cell_type": "markdown",
      "metadata": {
        "id": "CpnS1KDimu1q",
        "colab_type": "text"
      },
      "source": [
        "There were a few cases which were reported on the sea, i.e. on Cruise ship 'Grand Princess' and 'Diamond Princess cruise ship'. Lets calcuate that.\n",
        "\n",
        "Also, since COVID was first detected in China, lets group the data for China and the Rest of the world."
      ]
    },
    {
      "cell_type": "code",
      "metadata": {
        "id": "WzJBqyQzmu1r",
        "colab_type": "code",
        "colab": {}
      },
      "source": [
        "# cases in the ships\n",
        "ship = full_table[full_table['Province/State'].str.contains('Grand Princess')|full_table['Province/State'].str.contains('Diamond Princess cruise ship')]\n",
        "\n",
        "# china and the row\n",
        "china = full_table[full_table['Country/Region']=='China']\n",
        "row = full_table[full_table['Country/Region']!='China']\n",
        "\n",
        "# latest\n",
        "full_latest = full_table[full_table['Date'] == max(full_table['Date'])].reset_index()\n",
        "china_latest = full_latest[full_latest['Country/Region']=='China']\n",
        "row_latest = full_latest[full_latest['Country/Region']!='China']\n",
        "\n",
        "# latest condensed\n",
        "full_latest_grouped = full_latest.groupby('Country/Region')['Confirmed', 'Deaths', 'Recovered', 'Active'].sum().reset_index()\n",
        "china_latest_grouped = china_latest.groupby('Province/State')['Confirmed', 'Deaths', 'Recovered', 'Active'].sum().reset_index()\n",
        "row_latest_grouped = row_latest.groupby('Country/Region')['Confirmed', 'Deaths', 'Recovered', 'Active'].sum().reset_index()"
      ],
      "execution_count": null,
      "outputs": []
    },
    {
      "cell_type": "code",
      "metadata": {
        "id": "xZP52aUYmu1t",
        "colab_type": "code",
        "colab": {}
      },
      "source": [
        "china_latest_grouped"
      ],
      "execution_count": null,
      "outputs": []
    },
    {
      "cell_type": "code",
      "metadata": {
        "id": "jdAK-UTOmu1u",
        "colab_type": "code",
        "colab": {}
      },
      "source": [
        "row_latest_grouped"
      ],
      "execution_count": null,
      "outputs": []
    },
    {
      "cell_type": "markdown",
      "metadata": {
        "id": "MjdmuzLomu1y",
        "colab_type": "text"
      },
      "source": [
        "### Exercise"
      ]
    },
    {
      "cell_type": "markdown",
      "metadata": {
        "id": "NTALrAlrmu1y",
        "colab_type": "text"
      },
      "source": [
        "##### Group data for United Kingdom"
      ]
    },
    {
      "cell_type": "code",
      "metadata": {
        "id": "lC7AmIEumu1y",
        "colab_type": "code",
        "colab": {}
      },
      "source": [
        ""
      ],
      "execution_count": null,
      "outputs": []
    },
    {
      "cell_type": "markdown",
      "metadata": {
        "id": "8wkvKucgmu10",
        "colab_type": "text"
      },
      "source": [
        "### World-Wide Totals"
      ]
    },
    {
      "cell_type": "markdown",
      "metadata": {
        "id": "VmorY09gmu10",
        "colab_type": "text"
      },
      "source": [
        "Lets look at the number of Confirmed, Recovered, Active, Deaths reported due to COVID in the world"
      ]
    },
    {
      "cell_type": "code",
      "metadata": {
        "id": "cLVrpZg4mu11",
        "colab_type": "code",
        "colab": {}
      },
      "source": [
        "temp = full_table.groupby(['Country/Region', 'Province/State'])['Confirmed', 'Deaths', 'Recovered', 'Active'].max()"
      ],
      "execution_count": null,
      "outputs": []
    },
    {
      "cell_type": "code",
      "metadata": {
        "id": "6u5n7oTSmu12",
        "colab_type": "code",
        "colab": {}
      },
      "source": [
        "temp"
      ],
      "execution_count": null,
      "outputs": []
    },
    {
      "cell_type": "code",
      "metadata": {
        "id": "ChaTcnZKmu14",
        "colab_type": "code",
        "colab": {}
      },
      "source": [
        "temp = full_table.groupby('Date')['Confirmed', 'Deaths', 'Recovered', 'Active'].sum().reset_index()\n",
        "temp = temp[temp['Date']==max(temp['Date'])].reset_index(drop=True)\n",
        "temp.style.background_gradient(cmap='Pastel1')"
      ],
      "execution_count": null,
      "outputs": []
    },
    {
      "cell_type": "markdown",
      "metadata": {
        "id": "PD0n8W9Kmu15",
        "colab_type": "text"
      },
      "source": [
        "### Progression of virus over time"
      ]
    },
    {
      "cell_type": "markdown",
      "metadata": {
        "id": "Nsx0vzLemu16",
        "colab_type": "text"
      },
      "source": [
        "It would make sense to see how the virus has spread over time across different countries.\n",
        "\n",
        "I have used https://app.flourish.studio/ to create a bar-chart-race to show the progression of virus over time"
      ]
    },
    {
      "cell_type": "code",
      "metadata": {
        "scrolled": true,
        "id": "Iwcmeqb3mu17",
        "colab_type": "code",
        "colab": {}
      },
      "source": [
        "HTML('''<div class=\"flourish-embed flourish-bar-chart-race\" data-src=\"visualisation/3677391\"><script src=\"https://public.flourish.studio/resources/embed.js\"></script></div>''')"
      ],
      "execution_count": null,
      "outputs": []
    },
    {
      "cell_type": "markdown",
      "metadata": {
        "id": "UwAn490Ymu18",
        "colab_type": "text"
      },
      "source": [
        "### Cumulative Outcomes"
      ]
    },
    {
      "cell_type": "markdown",
      "metadata": {
        "id": "C5Na2HOrmu19",
        "colab_type": "text"
      },
      "source": [
        "Now, since we have seen and analyzed how the virus spread across the world over time, we should also analyze how many cases were active, recovered, and deaths over time."
      ]
    },
    {
      "cell_type": "code",
      "metadata": {
        "id": "DYw1Uln2mu19",
        "colab_type": "code",
        "colab": {}
      },
      "source": [
        "temp = full_table.groupby('Date')['Recovered', 'Deaths', 'Active'].sum().reset_index()\n",
        "temp = temp.melt(id_vars=\"Date\", value_vars=['Recovered', 'Deaths', 'Active'],\n",
        "                 var_name='Case', value_name='Count')\n",
        "temp.head()\n",
        "\n",
        "fig = px.area(temp, x=\"Date\", y=\"Count\", color='Case',\n",
        "             title='Cases over time', color_discrete_sequence = [rec, dth, act])\n",
        "fig.update_layout(margin=dict(t=80,l=0,r=0,b=0))\n",
        "fig "
      ],
      "execution_count": null,
      "outputs": []
    },
    {
      "cell_type": "markdown",
      "metadata": {
        "id": "k1G4BezImu1_",
        "colab_type": "text"
      },
      "source": [
        "### Recovery and Mortality Rate"
      ]
    },
    {
      "cell_type": "code",
      "metadata": {
        "id": "GlZY9n-vmu1_",
        "colab_type": "code",
        "colab": {}
      },
      "source": [
        "temp = full_table.groupby('Date').sum().reset_index()\n",
        "\n",
        "# adding two more columns\n",
        "temp['No. of Deaths to 100 Confirmed Cases'] = round(temp['Deaths']/temp['Confirmed'], 3)*100\n",
        "temp['No. of Recovered to 100 Confirmed Cases'] = round(temp['Recovered']/temp['Confirmed'], 3)*100\n",
        "# temp['No. of Recovered to 1 Death Case'] = round(temp['Recovered']/temp['Deaths'], 3)\n",
        "\n",
        "temp = temp.melt(id_vars='Date', value_vars=['No. of Deaths to 100 Confirmed Cases', 'No. of Recovered to 100 Confirmed Cases'], \n",
        "                 var_name='Ratio', value_name='Value')\n",
        "\n",
        "fig = px.line(temp, x=\"Date\", y=\"Value\", color='Ratio', log_y=True, \n",
        "              title='Recovery and Mortality Rate Over The Time',\n",
        "              color_discrete_sequence=[dth, rec])\n",
        "fig.update_layout(legend=dict(orientation=\"h\", y=1, x=0, \n",
        "                              xanchor=\"left\", yanchor=\"top\"),\n",
        "                  margin=dict(t=80,l=0,r=0,b=0))\n",
        "fig"
      ],
      "execution_count": null,
      "outputs": []
    },
    {
      "cell_type": "markdown",
      "metadata": {
        "id": "ziduQSp3mu2B",
        "colab_type": "text"
      },
      "source": [
        "### No. of Places to which COVID-19 spread"
      ]
    },
    {
      "cell_type": "code",
      "metadata": {
        "id": "aUqUf7RWmu2B",
        "colab_type": "code",
        "colab": {}
      },
      "source": [
        "c_spread = china[china['Confirmed']!=0].groupby('Date')['Province/State'].unique().apply(len)\n",
        "c_spread = pd.DataFrame(c_spread).reset_index()\n",
        "\n",
        "fig = px.line(c_spread, x='Date', y='Province/State', text='Province/State',\n",
        "              title='Number of Provinces/States/Regions of China<br>to which COVID-19 spread over the time',\n",
        "             color_discrete_sequence=[cnf,dth, rec])\n",
        "fig.update_traces(textposition='top center')\n",
        "fig.update_layout(margin=dict(t=80,l=0,r=0,b=0))\n",
        "fig"
      ],
      "execution_count": null,
      "outputs": []
    },
    {
      "cell_type": "code",
      "metadata": {
        "id": "cklM7ljbmu2D",
        "colab_type": "code",
        "colab": {}
      },
      "source": [
        "spread = full_table[full_table['Confirmed']!=0].groupby('Date')['Country/Region'].unique().apply(len)\n",
        "spread = pd.DataFrame(spread).reset_index()\n",
        "\n",
        "fig = px.line(spread, x='Date', y='Country/Region', text='Country/Region',\n",
        "              title='Number of Countries/Regions<br>to which COVID-19 spread over the time',\n",
        "             color_discrete_sequence=[cnf,dth, rec])\n",
        "fig.update_traces(textposition='top center')\n",
        "fig.update_layout(margin=dict(t=80,l=0,r=0,b=0))\n",
        "fig"
      ],
      "execution_count": null,
      "outputs": []
    },
    {
      "cell_type": "markdown",
      "metadata": {
        "id": "kv1grCGLmu2F",
        "colab_type": "text"
      },
      "source": [
        "### Maps"
      ]
    },
    {
      "cell_type": "markdown",
      "metadata": {
        "id": "uiTqVe4Kmu2F",
        "colab_type": "text"
      },
      "source": [
        "Lets plot these on a Map"
      ]
    },
    {
      "cell_type": "code",
      "metadata": {
        "id": "ZoybJ_bQmu2G",
        "colab_type": "code",
        "colab": {}
      },
      "source": [
        "# Confirmed\n",
        "\n",
        "fig = px.choropleth(full_latest_grouped, locations=\"Country/Region\", \n",
        "                    locationmode='country names', color=\"Confirmed\", \n",
        "                    hover_name=\"Country/Region\", range_color=[1,7000], \n",
        "                    color_continuous_scale=\"aggrnyl\", \n",
        "                    title='Countries with Confirmed Cases')\n",
        "fig.update(layout_coloraxis_showscale=False)\n",
        "fig.update_layout(margin=dict(t=80,l=0,r=0,b=0))\n",
        "fig"
      ],
      "execution_count": null,
      "outputs": []
    },
    {
      "cell_type": "code",
      "metadata": {
        "id": "y2je1XfJmu2H",
        "colab_type": "code",
        "colab": {}
      },
      "source": [
        "# Deaths\n",
        "\n",
        "fig = px.choropleth(full_latest_grouped[full_latest_grouped['Deaths']>0], \n",
        "                    locations=\"Country/Region\", locationmode='country names',\n",
        "                    color=\"Deaths\", hover_name=\"Country/Region\", \n",
        "                    range_color=[1,50], color_continuous_scale=\"agsunset\",\n",
        "                    title='Countries with Deaths Reported')\n",
        "fig.update(layout_coloraxis_showscale=False)\n",
        "fig.update_layout(margin=dict(t=80,l=0,r=0,b=0))\n",
        "fig"
      ],
      "execution_count": null,
      "outputs": []
    },
    {
      "cell_type": "markdown",
      "metadata": {
        "id": "uD63YJSdmu2J",
        "colab_type": "text"
      },
      "source": [
        "### Top 20 countries"
      ]
    },
    {
      "cell_type": "markdown",
      "metadata": {
        "id": "LnSxKsv-mu2J",
        "colab_type": "text"
      },
      "source": [
        "Lets get the Top 20 affected countries based on Total number of Active, Confirmed, Recoveries and Deaths\n",
        "\n",
        "Also, lets calculate the Total number of deaths per 100 confirmed cases, and the countries with the worst death ratio"
      ]
    },
    {
      "cell_type": "code",
      "metadata": {
        "id": "wGomObOOmu2K",
        "colab_type": "code",
        "colab": {}
      },
      "source": [
        "flg = full_latest_grouped\n",
        "flg.head()"
      ],
      "execution_count": null,
      "outputs": []
    },
    {
      "cell_type": "code",
      "metadata": {
        "id": "wT8_ORAbmu2L",
        "colab_type": "code",
        "colab": {}
      },
      "source": [
        "# Confirmed\n",
        "\n",
        "fig = px.bar(flg.sort_values('Confirmed', ascending=False).head(20).sort_values('Confirmed', ascending=True), \n",
        "             x=\"Confirmed\", y=\"Country/Region\", title='Confirmed Cases', text='Confirmed', orientation='h', \n",
        "             width=700, height=700, range_x = [0, max(flg['Confirmed'])+10000])\n",
        "fig.update_traces(marker_color=cnf, opacity=0.6, textposition='outside')\n",
        "fig.update_layout(margin=dict(t=80,l=0,r=0,b=0))\n",
        "fig"
      ],
      "execution_count": null,
      "outputs": []
    },
    {
      "cell_type": "code",
      "metadata": {
        "id": "CcNz242Imu2N",
        "colab_type": "code",
        "colab": {}
      },
      "source": [
        "# Deaths\n",
        "\n",
        "fig = px.bar(flg.sort_values('Deaths', ascending=False).head(20).sort_values('Deaths', ascending=True), \n",
        "             x=\"Deaths\", y=\"Country/Region\", title='Deaths', text='Deaths', orientation='h', \n",
        "             width=700, height=700, range_x = [0, max(flg['Deaths'])+500])\n",
        "fig.update_traces(marker_color=dth, opacity=0.6, textposition='outside')\n",
        "fig.update_layout(margin=dict(t=80,l=0,r=0,b=0))\n",
        "fig"
      ],
      "execution_count": null,
      "outputs": []
    },
    {
      "cell_type": "markdown",
      "metadata": {
        "id": "xnqlLX-Emu2O",
        "colab_type": "text"
      },
      "source": [
        "### Exercise"
      ]
    },
    {
      "cell_type": "markdown",
      "metadata": {
        "id": "Bz47FdDpmu2P",
        "colab_type": "text"
      },
      "source": [
        "##### Find the recovered cases by countries"
      ]
    },
    {
      "cell_type": "code",
      "metadata": {
        "id": "sdtSekP8mu2P",
        "colab_type": "code",
        "colab": {}
      },
      "source": [
        ""
      ],
      "execution_count": null,
      "outputs": []
    },
    {
      "cell_type": "code",
      "metadata": {
        "id": "8_-wJq54mu2R",
        "colab_type": "code",
        "colab": {}
      },
      "source": [
        "#Active\n",
        "\n",
        "fig = px.bar(flg.sort_values('Active', ascending=False).head(20).sort_values('Active', ascending=True), \n",
        "             x=\"Active\", y=\"Country/Region\", title='Active', text='Active', orientation='h', \n",
        "             width=700, height=700, range_x = [0, max(flg['Active'])+3000])\n",
        "fig.update_traces(marker_color=act, opacity=0.6, textposition='outside')\n",
        "fig.update_layout(margin=dict(t=80,l=0,r=0,b=0))\n",
        "fig"
      ],
      "execution_count": null,
      "outputs": []
    },
    {
      "cell_type": "markdown",
      "metadata": {
        "id": "Ew4imjBUmu2S",
        "colab_type": "text"
      },
      "source": [
        "##### Calculating Number of Deaths per 100 confirmed cases"
      ]
    },
    {
      "cell_type": "code",
      "metadata": {
        "id": "gNYyXFGDmu2S",
        "colab_type": "code",
        "colab": {}
      },
      "source": [
        "# (Only countries with more than 100 case are considered)\n",
        "\n",
        "flg['Mortality Rate'] = round((flg['Deaths']/flg['Confirmed'])*100, 2)\n",
        "temp = flg[flg['Confirmed']>100]\n",
        "temp = temp.sort_values('Mortality Rate', ascending=False)\n",
        "\n",
        "fig = px.bar(temp.sort_values('Mortality Rate', ascending=False).head(15).sort_values('Mortality Rate', ascending=True), \n",
        "             x=\"Mortality Rate\", y=\"Country/Region\", text='Mortality Rate', orientation='h', \n",
        "             width=700, height=600, range_x = [0, 35], title='No. of Deaths Per 100 Confirmed Case')\n",
        "fig.update_traces(marker_color=act, opacity=0.6, textposition='outside')\n",
        "fig.update_layout(margin=dict(t=80,l=0,r=0,b=0))\n",
        "fig"
      ],
      "execution_count": null,
      "outputs": []
    },
    {
      "cell_type": "markdown",
      "metadata": {
        "id": "gUl0lmRemu2U",
        "colab_type": "text"
      },
      "source": [
        "##### Plotting the same details on a Heatmap"
      ]
    },
    {
      "cell_type": "code",
      "metadata": {
        "id": "gC7LoSRhmu2U",
        "colab_type": "code",
        "colab": {}
      },
      "source": [
        "fig = px.treemap(full_latest.sort_values(by='Confirmed', ascending=False).reset_index(drop=True), \n",
        "                 path=[\"Country/Region\", \"Province/State\"], values=\"Confirmed\", height=700,\n",
        "                 title='Number of Confirmed Cases',\n",
        "                 color_discrete_sequence = px.colors.qualitative.Prism)\n",
        "fig.data[0].textinfo = 'label+text+value'\n",
        "fig.update_layout(margin=dict(t=80,l=0,r=0,b=0))\n",
        "fig"
      ],
      "execution_count": null,
      "outputs": []
    },
    {
      "cell_type": "markdown",
      "metadata": {
        "id": "UUXCho_Dmu2X",
        "colab_type": "text"
      },
      "source": [
        "### Exercise"
      ]
    },
    {
      "cell_type": "markdown",
      "metadata": {
        "id": "bxVi-E9Bmu2a",
        "colab_type": "text"
      },
      "source": [
        "##### Generate number of deaths on a heatmap"
      ]
    },
    {
      "cell_type": "code",
      "metadata": {
        "id": "3agZZ4AZmu2a",
        "colab_type": "code",
        "colab": {}
      },
      "source": [
        ""
      ],
      "execution_count": null,
      "outputs": []
    },
    {
      "cell_type": "markdown",
      "metadata": {
        "id": "PYrIl8UImu2c",
        "colab_type": "text"
      },
      "source": [
        "### China vs Not China"
      ]
    },
    {
      "cell_type": "code",
      "metadata": {
        "id": "3DQBaALLmu2c",
        "colab_type": "code",
        "colab": {}
      },
      "source": [
        "# In China\n",
        "temp = china.groupby('Date')['Confirmed', 'Deaths', 'Recovered'].sum().diff()\n",
        "temp = temp.reset_index()\n",
        "temp = temp.melt(id_vars=\"Date\", \n",
        "                 value_vars=['Confirmed', 'Deaths', 'Recovered'])\n",
        "\n",
        "fig = px.bar(temp, x=\"Date\", y=\"value\", color='variable', \n",
        "             title='In China',\n",
        "             color_discrete_sequence=[cnf, dth, rec])\n",
        "fig.update_layout(barmode='group')\n",
        "fig.update_layout(margin=dict(t=80,l=0,r=0,b=0))\n",
        "fig"
      ],
      "execution_count": null,
      "outputs": []
    },
    {
      "cell_type": "code",
      "metadata": {
        "id": "JDe03DNVmu2g",
        "colab_type": "code",
        "colab": {}
      },
      "source": [
        "# ROW\n",
        "temp = row.groupby('Date')['Confirmed', 'Deaths', 'Recovered'].sum().diff()\n",
        "temp = temp.reset_index()\n",
        "temp = temp.melt(id_vars=\"Date\", \n",
        "                 value_vars=['Confirmed', 'Deaths', 'Recovered'])\n",
        "\n",
        "fig = px.bar(temp, x=\"Date\", y=\"value\", color='variable', \n",
        "             title='Outside China',\n",
        "             color_discrete_sequence=[cnf, dth, rec])\n",
        "fig.update_layout(barmode='group')\n",
        "fig.update_layout(margin=dict(t=80,l=0,r=0,b=0))\n",
        "fig"
      ],
      "execution_count": null,
      "outputs": []
    },
    {
      "cell_type": "code",
      "metadata": {
        "id": "YyMCLVoimu2i",
        "colab_type": "code",
        "colab": {}
      },
      "source": [
        "gdf = full_table.groupby(['Date', 'Country/Region'])['Confirmed', 'Deaths', 'Recovered'].max()\n",
        "gdf = gdf.reset_index()\n",
        "\n",
        "temp = gdf[gdf['Country/Region']=='China'].reset_index()\n",
        "temp = temp.melt(id_vars='Date', value_vars=['Confirmed', 'Deaths', 'Recovered'],\n",
        "                var_name='Case', value_name='Count')\n",
        "fig = px.bar(temp, x=\"Date\", y=\"Count\", color='Case', facet_col=\"Case\",\n",
        "            title='China', color_discrete_sequence=[cnf, dth, rec])\n",
        "fig.update_layout(margin=dict(t=80,l=0,r=0,b=0))\n",
        "fig"
      ],
      "execution_count": null,
      "outputs": []
    },
    {
      "cell_type": "code",
      "metadata": {
        "id": "jCae3Dj2mu2k",
        "colab_type": "code",
        "colab": {}
      },
      "source": [
        "temp = gdf[gdf['Country/Region']!='China'].groupby('Date').sum().reset_index()\n",
        "temp = temp.melt(id_vars='Date', value_vars=['Confirmed', 'Deaths', 'Recovered'],\n",
        "                var_name='Case', value_name='Count')\n",
        "fig = px.bar(temp, x=\"Date\", y=\"Count\", color='Case', facet_col=\"Case\",\n",
        "             title='ROW', color_discrete_sequence=[cnf, dth, rec])\n",
        "fig.update_layout(margin=dict(t=80,l=0,r=0,b=0))\n",
        "fig"
      ],
      "execution_count": null,
      "outputs": []
    },
    {
      "cell_type": "markdown",
      "metadata": {
        "id": "e4IJKWO_mu2m",
        "colab_type": "text"
      },
      "source": [
        "### Data by Country"
      ]
    },
    {
      "cell_type": "markdown",
      "metadata": {
        "id": "s1BrAEUCmu2m",
        "colab_type": "text"
      },
      "source": [
        "Re-analyzing the data in tabular format to understand the mortality rate in the worst affected countries"
      ]
    },
    {
      "cell_type": "markdown",
      "metadata": {
        "id": "imMp8CNmmu2m",
        "colab_type": "text"
      },
      "source": [
        "### Top 50 countries by Confirmed Cases"
      ]
    },
    {
      "cell_type": "code",
      "metadata": {
        "id": "0bJvG0FMmu2n",
        "colab_type": "code",
        "colab": {}
      },
      "source": [
        "temp_f = full_latest_grouped.sort_values(by='Confirmed', ascending=False).head(50)\n",
        "temp_f = temp_f.reset_index(drop=True)\n",
        "temp_f.style.background_gradient(cmap='Reds')"
      ],
      "execution_count": null,
      "outputs": []
    },
    {
      "cell_type": "markdown",
      "metadata": {
        "id": "Qan7ztVVmu2p",
        "colab_type": "text"
      },
      "source": [
        "### Top 25 Countries By Deaths Reported"
      ]
    },
    {
      "cell_type": "code",
      "metadata": {
        "id": "TcRMQ6mJmu2p",
        "colab_type": "code",
        "colab": {}
      },
      "source": [
        "temp_flg = temp_f[temp_f['Deaths']>0][['Country/Region', 'Deaths']].head(25)\n",
        "temp_flg.sort_values('Deaths', ascending=False).reset_index(drop=True).style.background_gradient(cmap='Reds')"
      ],
      "execution_count": null,
      "outputs": []
    },
    {
      "cell_type": "markdown",
      "metadata": {
        "id": "LPGtw26Tmu2r",
        "colab_type": "text"
      },
      "source": [
        "### Top 25 Chinese Provinces By Confirmed Cases"
      ]
    },
    {
      "cell_type": "code",
      "metadata": {
        "scrolled": false,
        "id": "iZF-u5jMmu2r",
        "colab_type": "code",
        "colab": {}
      },
      "source": [
        "temp_f = china_latest_grouped[['Province/State', 'Confirmed', 'Deaths', 'Recovered']]\n",
        "temp_f = temp_f.sort_values(by='Confirmed', ascending=False)\n",
        "temp_f = temp_f.reset_index(drop=True)\n",
        "temp_f.style.background_gradient(cmap='Pastel1_r')"
      ],
      "execution_count": null,
      "outputs": []
    },
    {
      "cell_type": "markdown",
      "metadata": {
        "id": "NFyf20EBmu2t",
        "colab_type": "text"
      },
      "source": [
        "### References"
      ]
    },
    {
      "cell_type": "markdown",
      "metadata": {
        "id": "tAfNaeyUmu2t",
        "colab_type": "text"
      },
      "source": [
        "Data - \n",
        "https://github.com/CSSEGISandData/COVID-19"
      ]
    },
    {
      "cell_type": "code",
      "metadata": {
        "id": "KoUChnUlmu2u",
        "colab_type": "code",
        "colab": {}
      },
      "source": [
        ""
      ],
      "execution_count": null,
      "outputs": []
    }
  ]
}