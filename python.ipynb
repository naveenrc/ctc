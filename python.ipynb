{
 "cells": [
  {
   "cell_type": "markdown",
   "metadata": {},
   "source": [
    "# Python Programming Language\n",
    "\n",
    "<img src=\"img/icon.png\" width=\"50px\" height=\"50px\" align=\"left\"/>"
   ]
  },
  {
   "cell_type": "markdown",
   "metadata": {},
   "source": [
    "Python is a high-level, interpreted, programming language released in 1991. It's emphasis on code readability and simplicity has made it popular across many different industries and disciplines. Python 3.0 was released in 2008 and is not backward-compatible with native Python 2 code."
   ]
  },
  {
   "cell_type": "markdown",
   "metadata": {},
   "source": [
    "## 🙌 Let's start! \n",
    "The first thing we will do is print hello world. **Select the next cell below, and click run button at the top of this page to execute the code block.**\n",
    "\n",
    "<img src=\"img/run_code.png\" align=\"left\"/>"
   ]
  },
  {
   "cell_type": "code",
   "execution_count": null,
   "metadata": {},
   "outputs": [],
   "source": [
    "# Python comments begin with a hash mark\n",
    "\n",
    "c = \"Hello World\"\n",
    "print(c)"
   ]
  },
  {
   "cell_type": "markdown",
   "metadata": {},
   "source": [
    "**You should see the output:**\n",
    "\n",
    "`Hello World`\n",
    "\n",
    "If so, you just ran your first line of python code! Otherwise, please go back and make sure you find the run button to be able to execute the code block above. Every time you execute a block of code, you can see the number of times it was executed on the left side.\\\n",
    "\n",
    "<img src=\"img/count.png\" width=\"129\" height=\"138\" align=\"left\"/>"
   ]
  },
  {
   "cell_type": "markdown",
   "metadata": {},
   "source": [
    "**In the next code block, enter in your own text and exectue to print.**"
   ]
  },
  {
   "cell_type": "code",
   "execution_count": null,
   "metadata": {},
   "outputs": [],
   "source": [
    "print()"
   ]
  },
  {
   "cell_type": "markdown",
   "metadata": {},
   "source": [
    "## 🗂 Typing \n",
    "These are some of the following data types which are built-in to Python 3.\n",
    "\n",
    "\n",
    "\n",
    "| Type        | Description       | Immutable (unchangeable) |\n",
    "| :---------- | :----------       |-------:                  |\n",
    "| **bool**        | boolean           | Yes   |\n",
    "| **bytearray**   | sequence of bytes | No    |\n",
    "| **bytes**       | sequence of bytes | Yes   |\n",
    "| **complex**     | complex number    | Yes   |\n",
    "| **dict**        | dictionary, key value pairs        | No    |\n",
    "| **float**       | double-precision floaitng point number | Yes |\n",
    "| **int**         | integer           | Yes   |\n",
    "| **list**        | a list            | No    |\n",
    "| **NonType**     | null              | Yes   |\n",
    "| **range**       | a sequence of numbers | Yes |\n",
    "| **set**         | unordered set, unordered | No |\n",
    "| **str**         | string            | Yes   |\n",
    "| **tuple**       | tuple             | Yes   |\n",
    "\n",
    "\n",
    "Let's see some examples!\n",
    "\n",
    "We will start by assigning a variable to a type listed form above and then using the print() function and type() funciton.\n",
    "\n",
    "- `print()` function - prints the given object\n",
    "- `type()` function - returns the type of the object passed\n",
    "\n",
    "So `print(type(object))` should print the type of object passed.\n",
    "\n",
    "**Execute each code block below to see the example output of different types.**"
   ]
  },
  {
   "cell_type": "code",
   "execution_count": null,
   "metadata": {},
   "outputs": [],
   "source": [
    "# boolean\n",
    "x = True\n",
    "y = False\n",
    "print(type(x))\n",
    "print(type(y))"
   ]
  },
  {
   "cell_type": "code",
   "execution_count": null,
   "metadata": {},
   "outputs": [],
   "source": [
    "# bytearray\n",
    "x = bytearray([10,55,23,40])\n",
    "\n",
    "#bytes\n",
    "y = bytes([10,55,23,40])\n",
    "\n",
    "print(type(x))\n",
    "print(type(y))"
   ]
  },
  {
   "cell_type": "code",
   "execution_count": null,
   "metadata": {},
   "outputs": [],
   "source": [
    "# complex\n",
    "x = 2+2.4j\n",
    "\n",
    "print(type(x))"
   ]
  },
  {
   "cell_type": "code",
   "execution_count": null,
   "metadata": {},
   "outputs": [],
   "source": [
    "# dict\n",
    "x = {'key1': \"value1\", \"value2\": 450, 3: \"value3\", 4: False}\n",
    "\n",
    "print(x.get('key1'))\n",
    "print(x.get(\"value2\"))\n",
    "print(x.get(3))\n",
    "print(x.get(4))\n",
    "\n",
    "print(type(x))"
   ]
  },
  {
   "cell_type": "code",
   "execution_count": null,
   "metadata": {},
   "outputs": [],
   "source": [
    "# float\n",
    "x = 1.113\n",
    "\n",
    "# int\n",
    "y = 42\n",
    "\n",
    "print(type(x))\n",
    "print(type(y))"
   ]
  },
  {
   "cell_type": "code",
   "execution_count": null,
   "metadata": {},
   "outputs": [],
   "source": [
    "# list\n",
    "x = [1,2,3]\n",
    "y = [\"a\", \"apple\", 10, \"c\", False ]\n",
    "\n",
    "print(x[1])\n",
    "print(type(x))\n",
    "\n",
    "print(y[4])\n",
    "print(type(y))"
   ]
  },
  {
   "cell_type": "code",
   "execution_count": null,
   "metadata": {},
   "outputs": [],
   "source": [
    "# nonetype\n",
    "\n",
    "print(type(None))"
   ]
  },
  {
   "cell_type": "code",
   "execution_count": null,
   "metadata": {},
   "outputs": [],
   "source": [
    "# range\n",
    "\n",
    "x = range(1,5)\n",
    "\n",
    "print(x)\n",
    "print(type(x))"
   ]
  },
  {
   "cell_type": "code",
   "execution_count": null,
   "metadata": {},
   "outputs": [],
   "source": [
    "# set\n",
    "\n",
    "x = {\"hello\", 400, True, 1.44}\n",
    "\n",
    "print(x)\n",
    "print(type(x))"
   ]
  },
  {
   "cell_type": "code",
   "execution_count": null,
   "metadata": {},
   "outputs": [],
   "source": [
    "# string\n",
    "\n",
    "x = \"Hello\"\n",
    "\n",
    "print(type(x))"
   ]
  },
  {
   "cell_type": "code",
   "execution_count": null,
   "metadata": {},
   "outputs": [],
   "source": [
    "# tuple\n",
    "\n",
    "y = (\"red\", \"green\", \"blue\")\n",
    "\n",
    "print(type(y))"
   ]
  },
  {
   "cell_type": "markdown",
   "metadata": {},
   "source": [
    "*Don't worry if some of the types are confusing, we will go into more detail and cover the differences and how to interact with them.*"
   ]
  },
  {
   "cell_type": "markdown",
   "metadata": {},
   "source": [
    "## 📄 Syntax \n",
    "Python does not use curly braces { } to indicate code blocks for class, function definitions, or control flow. Instead Python relies on whitespace indentation to delimit code blocks.\n",
    "\n",
    "**Run each of the code blocks below to see that line indentation is enforced.**"
   ]
  },
  {
   "cell_type": "markdown",
   "metadata": {},
   "source": [
    "👍 Correct spacing:"
   ]
  },
  {
   "cell_type": "code",
   "execution_count": null,
   "metadata": {},
   "outputs": [],
   "source": [
    "x = 5\n",
    "\n",
    "if x==5:\n",
    "    print(\"x is 5\")\n",
    "    \n",
    "else:\n",
    "    print(\"x is not 5\")"
   ]
  },
  {
   "cell_type": "code",
   "execution_count": null,
   "metadata": {},
   "outputs": [],
   "source": [
    "x = 42\n",
    "\n",
    "if x>40:\n",
    "    if x<44:\n",
    "        if x>41:\n",
    "            if x<43:\n",
    "                print(\"x must be 42\")\n",
    "                \n",
    "else:\n",
    "    print(\"x is not 42\")"
   ]
  },
  {
   "cell_type": "markdown",
   "metadata": {},
   "source": [
    "👎 Incorrect spacing:"
   ]
  },
  {
   "cell_type": "code",
   "execution_count": null,
   "metadata": {},
   "outputs": [],
   "source": [
    "x = 5\n",
    "\n",
    "#print is not indented\n",
    "if x==5:\n",
    "print(\"x is 5\")\n",
    "    \n",
    "else:\n",
    "print(\"x is not 5\")"
   ]
  },
  {
   "cell_type": "code",
   "execution_count": null,
   "metadata": {},
   "outputs": [],
   "source": [
    "x = 42\n",
    "\n",
    "#the second if and the print are not indented\n",
    "if x>40:\n",
    "    if x<44:\n",
    "    if x>41:\n",
    "            if x<43:\n",
    "            print(\"x must be 42\")\n",
    "                \n",
    "else:\n",
    "    print(\"x is not 42\")"
   ]
  },
  {
   "cell_type": "markdown",
   "metadata": {},
   "source": [
    "## 🤓 Operators \n",
    "\n",
    "### Arithmetic\n",
    "| Operator        | Name       |\n",
    "| :---------- | :----------    |\n",
    "| + | Additon |\n",
    "| - | Subtraction |\n",
    "| * | Multiplication |\n",
    "| / | Division |\n",
    "| % | Modulus |\n",
    "| ** | Exponentiation |\n",
    "| // | Floor division |\n",
    "\n",
    "**Run the following code block to see the examples print.**"
   ]
  },
  {
   "cell_type": "code",
   "execution_count": null,
   "metadata": {},
   "outputs": [],
   "source": [
    "x = 5 + 5\n",
    "y = 10-2/4\n",
    "\n",
    "print(x)\n",
    "print(y)\n",
    "\n",
    "print(x%y)\n",
    "print((x%y)**2)"
   ]
  },
  {
   "cell_type": "markdown",
   "metadata": {},
   "source": [
    "**Now it's your turn.**\n",
    "\n",
    "What is the result of 25^5?"
   ]
  },
  {
   "cell_type": "code",
   "execution_count": null,
   "metadata": {},
   "outputs": [],
   "source": []
  },
  {
   "cell_type": "markdown",
   "metadata": {},
   "source": [
    "### Assignment\n",
    "\n",
    "| Operator        | Description | Example |\n",
    "| :---------- | :----------     | :-----  |\n",
    "| = | Assign value from right side of operands to left side operand |  a = b + c |\n",
    "| += | Add right operand to left operand and assign result to left operand | a += b same as a = a + b |\n",
    "| -= | Subtract right operant from left operand and assign result to left operand | a -= c same as a = a - c |\n",
    "| \\*= | Multiply right operand with left and assign result to left operand | a \\*= d same as a = a \\* d |\n",
    "| /= | Divide left operand with right operand and assign result to left operand | a /= e same as a = a / e |\n",
    "| %= | Modulus of the two operands and assign result to left operand | a %= f same as a = a % f |\n",
    "| \\*\\*= | Exponential calculation of two operands and assign result to left operand | a \\*\\* g same as a = a \\*\\* g |\n",
    "| //= | Floor division of operands and assign value to left operand | a //= h same as a = a // h |\n",
    "\n",
    "**Run the following code block to see the examples print.**\n",
    "\n"
   ]
  },
  {
   "cell_type": "code",
   "execution_count": null,
   "metadata": {},
   "outputs": [],
   "source": [
    "x = 10\n",
    "x += 7\n",
    "print(x)"
   ]
  },
  {
   "cell_type": "markdown",
   "metadata": {},
   "source": [
    "### Comparison\n",
    "\n",
    "| Operator        | Description |\n",
    "| :---------- | :----------     |\n",
    "| == | Is equal to |\n",
    "| != | Is not equal to |\n",
    "| <> | Is not equal to |\n",
    "| > | Is value on left greater than on right |\n",
    "| < | Is value on right greater than on left |\n",
    "| >= | Is value on left greater than or equal to value on right |\n",
    "| <= | Is value on left less than or equal to value on right |\n",
    "\n",
    "**Run the following code block to see the examples print.**"
   ]
  },
  {
   "cell_type": "code",
   "execution_count": null,
   "metadata": {},
   "outputs": [],
   "source": [
    "y = 19\n",
    "x > y"
   ]
  },
  {
   "cell_type": "markdown",
   "metadata": {},
   "source": [
    "\n",
    "\n",
    "### Logical\n",
    "\n",
    "| Operator        | Description |\n",
    "| :---------- | :----------     | \n",
    "| and | Logical AND |\n",
    "| or | Logical OR |\n",
    "| not | Logical NOT |\n",
    "\n",
    "**Run the following code block to see the examples print.**"
   ]
  },
  {
   "cell_type": "code",
   "execution_count": null,
   "metadata": {},
   "outputs": [],
   "source": [
    "x = True\n",
    "y = False\n",
    "\n",
    "print(x and y)\n",
    "print(x or y)\n",
    "print(not x or y)\n",
    "print(not x and y)"
   ]
  },
  {
   "cell_type": "markdown",
   "metadata": {},
   "source": [
    "### Identity / Membership\n",
    "\n",
    "| Operator        | Description | \n",
    "| :---------- | :----------     |\n",
    "| is | Returns True if both variables are the same object |\n",
    "| is not | Returns True if both variables are not the same object |\n",
    "| in | Returns True if it finds the variable in the sequence |\n",
    "| not in | Returns true if it does not find the variable in the sequence |\n",
    "\n",
    "**Run the following code block to see the examples print.**"
   ]
  },
  {
   "cell_type": "code",
   "execution_count": null,
   "metadata": {},
   "outputs": [],
   "source": [
    "x1 = {\"blue\", \"green\", \"red\", \"purple\"}\n",
    "print(\"blue\" in x)\n",
    "\n",
    "y1 = \"cyan\"\n",
    "print(y1 in x1)\n",
    "\n",
    "x2 = x1\n",
    "y1 = {\"blue\", \"green\", \"red\", \"purple\"}\n",
    "\n",
    "print(x2 is x1)\n",
    "print (y1 is x1)"
   ]
  },
  {
   "cell_type": "markdown",
   "metadata": {},
   "source": [
    "## 🌊 Control Flow \n",
    "### Conditional Statements\n",
    "\n",
    "Python assumes that any non-zero and non-null values are True. Otherwise, any values that are either zero or null are assumed to be false."
   ]
  },
  {
   "cell_type": "code",
   "execution_count": null,
   "metadata": {},
   "outputs": [],
   "source": [
    "if(5):\n",
    "    print(True)"
   ]
  },
  {
   "cell_type": "code",
   "execution_count": null,
   "metadata": {},
   "outputs": [],
   "source": [
    "if(None):\n",
    "    print(False)"
   ]
  },
  {
   "cell_type": "code",
   "execution_count": null,
   "metadata": {},
   "outputs": [],
   "source": [
    "if(-4):\n",
    "    print(False)"
   ]
  },
  {
   "cell_type": "markdown",
   "metadata": {},
   "source": [
    "Python uses if and else statements to control the decision making structure as with most other programming languages. \n",
    "\n",
    "The basic structure is as follows:\n",
    "\n",
    "```Python\n",
    "if(condition1):\n",
    "    Execute some code\n",
    "    \n",
    "elif(condition2):\n",
    "    Execute some code\n",
    "    \n",
    "else:\n",
    "    Eecute some other code\n",
    "```"
   ]
  },
  {
   "cell_type": "markdown",
   "metadata": {},
   "source": [
    "### For Loop\n",
    "A for loop is used to iterate through a section of code over a sequence (lists, tuples, strings, etc.).\n",
    "\n",
    "The general format is as follows:\n",
    "\n",
    "```python\n",
    "for x in someSequence:\n",
    "    Execute code\n",
    "```\n",
    "**Run the following code blocks to see the output.**"
   ]
  },
  {
   "cell_type": "code",
   "execution_count": null,
   "metadata": {},
   "outputs": [],
   "source": [
    "#here we have a list of strings\n",
    "objects = [\"one\", \"two\", \"three\"]\n",
    "\n",
    "#we are printing and appending a comma\n",
    "#to print and specify the ending without a newline, you need an aditional parameter\n",
    "for x in objects:\n",
    "    print(x, end = ',')\n"
   ]
  },
  {
   "cell_type": "code",
   "execution_count": null,
   "metadata": {},
   "outputs": [],
   "source": [
    "for x in range(1,4):\n",
    "    print(x)"
   ]
  },
  {
   "cell_type": "code",
   "execution_count": null,
   "metadata": {},
   "outputs": [],
   "source": [
    "#here we iterate on the string itself\n",
    "word = \"pneumonoultramicroscopicsilicovolcanoconiosis\"\n",
    "\n",
    "#the y variable is the individual letter iterating through the word\n",
    "for y in word:\n",
    "    print(y, end = '')\n",
    "    "
   ]
  },
  {
   "cell_type": "markdown",
   "metadata": {},
   "source": [
    "### While Loop\n",
    "\n",
    "A while loop also iterates through a sequence but requires the variables to be defined before execution."
   ]
  },
  {
   "cell_type": "code",
   "execution_count": null,
   "metadata": {},
   "outputs": [],
   "source": [
    "x=5\n",
    "while x>0:\n",
    "    print(x)\n",
    "    x-=1"
   ]
  },
  {
   "cell_type": "markdown",
   "metadata": {},
   "source": [
    "**Be careful of infinite loops!**\n",
    "\n",
    "This code will run indefinitely.\n",
    "```python\n",
    "x=5\n",
    "while x>0:\n",
    "    print(x)\n",
    "    x-1\n",
    "```"
   ]
  },
  {
   "cell_type": "markdown",
   "metadata": {},
   "source": [
    "## 🧩 Functions\n",
    "A function is a block of code that runs when it is called. You may pass paramters into the function.\n",
    "\n",
    "```python\n",
    "#function named hello\n",
    "def hello():\n",
    "    print(\"Hello\")\n",
    "```\n",
    "Let's try the simple function below. This function will take in one parameter which is your name and then print a result.\n",
    "\n",
    "**Run the code block below to define the function hello.**\n",
    "\n"
   ]
  },
  {
   "cell_type": "code",
   "execution_count": null,
   "metadata": {},
   "outputs": [],
   "source": [
    "def hello(name):\n",
    "    print(\"Hello \" + name)\n"
   ]
  },
  {
   "cell_type": "markdown",
   "metadata": {},
   "source": [
    "**Change the parameter below and run the code block.**"
   ]
  },
  {
   "cell_type": "code",
   "execution_count": null,
   "metadata": {},
   "outputs": [],
   "source": [
    "hello(\"Your name\")"
   ]
  },
  {
   "cell_type": "markdown",
   "metadata": {},
   "source": [
    "If correctly done, the function call above should have passed whatever parameter you specified to the function hello and printed.\n",
    "\n",
    "A function may have multiple parameters passed.\n",
    "\n",
    "```python\n",
    "def my_function(parameter1, parameter2, parameter3):\n",
    "    print(parameter1 + parameter2 + parameter3)\n",
    "    "
   ]
  },
  {
   "cell_type": "markdown",
   "metadata": {},
   "source": [
    "## 🧮 Math"
   ]
  },
  {
   "cell_type": "code",
   "execution_count": null,
   "metadata": {},
   "outputs": [],
   "source": []
  }
 ],
 "metadata": {
  "kernelspec": {
   "display_name": "Python 3",
   "language": "python",
   "name": "python3"
  },
  "language_info": {
   "codemirror_mode": {
    "name": "ipython",
    "version": 3
   },
   "file_extension": ".py",
   "mimetype": "text/x-python",
   "name": "python",
   "nbconvert_exporter": "python",
   "pygments_lexer": "ipython3",
   "version": "3.8.5"
  }
 },
 "nbformat": 4,
 "nbformat_minor": 4
}
